{
 "cells": [
  {
   "cell_type": "code",
   "execution_count": 1,
   "metadata": {},
   "outputs": [],
   "source": [
    "import numpy as np\n",
    "import time\n",
    "\n",
    "from load_data import unpickle\n",
    "from sklearn.model_selection import KFold\n",
    "from sklearn.neighbors import KNeighborsClassifier"
   ]
  },
  {
   "cell_type": "code",
   "execution_count": 2,
   "metadata": {},
   "outputs": [],
   "source": [
    "def get_accuracy(predictions, actual):\n",
    "    difference = predictions - actual\n",
    "    number_predictions = predictions.shape[0]\n",
    "    number_incorrect = np.count_nonzero(difference)\n",
    "    number_correct = number_predictions - number_incorrect\n",
    "    accuracy = number_correct / number_predictions\n",
    "    return accuracy"
   ]
  },
  {
   "cell_type": "code",
   "execution_count": 3,
   "metadata": {},
   "outputs": [],
   "source": [
    "data = unpickle(\"data/data_batch_1\")"
   ]
  },
  {
   "cell_type": "code",
   "execution_count": 4,
   "metadata": {},
   "outputs": [],
   "source": [
    "X, y = data[b'data'], np.array(data[b'labels'])"
   ]
  },
  {
   "cell_type": "code",
   "execution_count": 5,
   "metadata": {},
   "outputs": [],
   "source": [
    "start_time = time.time()\n",
    "\n",
    "classifier = KNeighborsClassifier(n_neighbors=5)\n",
    "accuracies = []\n",
    "\n",
    "kf = KFold(n_splits=5, shuffle=True)\n",
    "for train_index, test_index in kf.split(X, y):\n",
    "    X_train, X_test = X[train_index], X[test_index]\n",
    "    y_train, y_test = y[train_index], y[test_index]\n",
    "\n",
    "    classifier.fit(X_train, y_train)\n",
    "    y_predict = classifier.predict(X_test)\n",
    "    accuracy = get_accuracy(y_predict, y_test)\n",
    "    accuracies.append(accuracy)\n",
    "    \n",
    "end_time = time.time()"
   ]
  },
  {
   "cell_type": "code",
   "execution_count": 6,
   "metadata": {},
   "outputs": [
    {
     "name": "stdout",
     "output_type": "stream",
     "text": [
      "Elapsed time: 515.352\n",
      "Mean accuracy: 0.28\n"
     ]
    }
   ],
   "source": [
    "elapsed_time = end_time - start_time\n",
    "elapsed_time = round(elapsed_time, 3)  \n",
    "print(\"Elapsed time:\", elapsed_time)\n",
    "\n",
    "mean_accuracy = np.array(accuracies).mean()\n",
    "mean_accuracy = round(mean_accuracy, 3)\n",
    "print(\"Mean accuracy:\", mean_accuracy)"
   ]
  },
  {
   "cell_type": "markdown",
   "metadata": {},
   "source": [
    "Using kNN with 5 neighbors and 5-fold cross-validation with shuffling on 10,000 images took approximately 8.5 minutes and resulted in a mean accuracy of 0.28"
   ]
  }
 ],
 "metadata": {
  "kernelspec": {
   "display_name": "Python 3",
   "language": "python",
   "name": "python3"
  },
  "language_info": {
   "codemirror_mode": {
    "name": "ipython",
    "version": 3
   },
   "file_extension": ".py",
   "mimetype": "text/x-python",
   "name": "python",
   "nbconvert_exporter": "python",
   "pygments_lexer": "ipython3",
   "version": "3.6.6"
  }
 },
 "nbformat": 4,
 "nbformat_minor": 2
}
