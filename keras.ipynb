{
 "cells": [
  {
   "cell_type": "code",
   "execution_count": 15,
   "metadata": {},
   "outputs": [],
   "source": [
    "import matplotlib.pyplot as plt\n",
    "import numpy as np\n",
    "import seaborn as sns\n",
    "import tensorflow as tf\n",
    "\n",
    "from sklearn.model_selection import train_test_split\n",
    "from tensorflow.keras import optimizers, regularizers\n",
    "from tensorflow.keras.layers import (\n",
    "    Activation, BatchNormalization, Dense, Dropout, Flatten\n",
    ")\n",
    "from tensorflow.keras.layers import Conv2D, MaxPooling2D\n",
    "from tensorflow.keras.metrics import categorical_accuracy\n",
    "from tensorflow.keras.models import Sequential\n",
    "from tensorflow.keras.utils import to_categorical\n",
    "from load_data import unpickle"
   ]
  },
  {
   "cell_type": "code",
   "execution_count": 2,
   "metadata": {},
   "outputs": [],
   "source": [
    "plt.style.use('ggplot')"
   ]
  },
  {
   "cell_type": "code",
   "execution_count": 3,
   "metadata": {},
   "outputs": [],
   "source": [
    "def get_filename(file_num):\n",
    "    \"\"\"Get the filename of a CIFAR-10 data batch\n",
    "    \n",
    "    Args:\n",
    "        file_num (int): batch number\n",
    "        \n",
    "    Returns:\n",
    "        filename (str): name of CIFAR-10 data batch\n",
    "    \"\"\"\n",
    "    \n",
    "    filename = 'data/data_batch_{0}'.format(file_num)\n",
    "    return filename\n",
    "\n",
    "def get_inputs(is_test_input=False):\n",
    "    \"\"\"Get the inputs from the CIFAR-10 data batches\n",
    "    \n",
    "    Args:\n",
    "        is_test_input (bool): \n",
    "            specifies whether or not the inputs are test inputs\n",
    "    \n",
    "    Returns:\n",
    "        X (numpy array): (N, 32, 32, 3) representation of images\n",
    "        y (numpy array): one-hot encoded image labels\n",
    "    \"\"\"\n",
    "    \n",
    "    if (is_test_input):    \n",
    "        batch = unpickle('data/test_batch')\n",
    "        X, y = batch[b'data'], np.array(batch[b'labels'])\n",
    "    else:\n",
    "        files = [get_filename(file_num) for file_num in range(1, 6)]\n",
    "        batches = [unpickle(file) for file in files]\n",
    "\n",
    "        data = [batches[i][b'data'] for i in range(0, 5)]\n",
    "        labels = [batches[i][b'labels'] for i in range(0, 5)]\n",
    "\n",
    "        X, y = np.concatenate(data), np.concatenate(labels)\n",
    "    \n",
    "    X, y = X.reshape(X.shape[0], 32, 32, 3), to_categorical(y)\n",
    "    X = X / 255\n",
    "    return X, y"
   ]
  },
  {
   "cell_type": "code",
   "execution_count": 4,
   "metadata": {},
   "outputs": [],
   "source": [
    "X, y = get_inputs()\n",
    "X_test, y_test = get_inputs(is_test_input=True)\n",
    "X_train, X_val, y_train, y_val = train_test_split(X, y, test_size=0.2)"
   ]
  },
  {
   "cell_type": "code",
   "execution_count": 23,
   "metadata": {},
   "outputs": [],
   "source": [
    "model = Sequential()\n",
    "model.add(Conv2D(32, (3, 3), input_shape=(32, 32, 3)))\n",
    "model.add(Activation('relu'))\n",
    "model.add(BatchNormalization())\n",
    "model.add(Conv2D(32, (3, 3)))\n",
    "model.add(Activation('relu'))\n",
    "model.add(BatchNormalization())\n",
    "model.add(MaxPooling2D(pool_size=(2, 2)))\n",
    "model.add(Dropout(0.2))\n",
    "\n",
    "model.add(Flatten())\n",
    "model.add(Dense(10, activation='softmax'))"
   ]
  },
  {
   "cell_type": "code",
   "execution_count": null,
   "metadata": {},
   "outputs": [],
   "source": [
    "nadam_optimizer = tf.keras.optimizers.Nadam(\n",
    "    learning_rate=0.005, \n",
    "    beta_1=0.9, \n",
    "    beta_2=0.999\n",
    ")\n",
    "model.compile(\n",
    "    loss='categorical_crossentropy', \n",
    "    optimizer=nadam_optimizer, \n",
    "    metrics=['categorical_accuracy']\n",
    ")"
   ]
  },
  {
   "cell_type": "code",
   "execution_count": 43,
   "metadata": {},
   "outputs": [],
   "source": [
    "model.summary()"
   ]
  },
  {
   "cell_type": "code",
   "execution_count": 45,
   "metadata": {},
   "outputs": [
    {
     "name": "stdout",
     "output_type": "stream",
     "text": [
      "Train on 40000 samples, validate on 10000 samples\n",
      "Epoch 1/10\n",
      "40000/40000 [==============================] - 106s 3ms/sample - loss: 1.3587 - categorical_accuracy: 0.5344 - val_loss: 1.7157 - val_categorical_accuracy: 0.4269\n",
      "Epoch 2/10\n",
      "40000/40000 [==============================] - 111s 3ms/sample - loss: 1.1502 - categorical_accuracy: 0.6080 - val_loss: 1.6273 - val_categorical_accuracy: 0.4613\n",
      "Epoch 3/10\n",
      "40000/40000 [==============================] - 113s 3ms/sample - loss: 1.0787 - categorical_accuracy: 0.6308 - val_loss: 1.3225 - val_categorical_accuracy: 0.5506\n",
      "Epoch 4/10\n",
      "40000/40000 [==============================] - 113s 3ms/sample - loss: 1.0255 - categorical_accuracy: 0.6503 - val_loss: 1.3168 - val_categorical_accuracy: 0.5526\n",
      "Epoch 5/10\n",
      "40000/40000 [==============================] - 110s 3ms/sample - loss: 0.9876 - categorical_accuracy: 0.6639 - val_loss: 1.4513 - val_categorical_accuracy: 0.5345\n",
      "Epoch 6/10\n",
      "40000/40000 [==============================] - 114s 3ms/sample - loss: 0.9610 - categorical_accuracy: 0.6729 - val_loss: 1.3045 - val_categorical_accuracy: 0.5629\n",
      "Epoch 7/10\n",
      "40000/40000 [==============================] - 110s 3ms/sample - loss: 0.9372 - categorical_accuracy: 0.6788 - val_loss: 1.3652 - val_categorical_accuracy: 0.5653\n",
      "Epoch 8/10\n",
      "40000/40000 [==============================] - 110s 3ms/sample - loss: 0.9150 - categorical_accuracy: 0.6831 - val_loss: 1.3092 - val_categorical_accuracy: 0.5779\n",
      "Epoch 9/10\n",
      "40000/40000 [==============================] - 110s 3ms/sample - loss: 0.8979 - categorical_accuracy: 0.6943 - val_loss: 1.2173 - val_categorical_accuracy: 0.5903\n",
      "Epoch 10/10\n",
      "40000/40000 [==============================] - 110s 3ms/sample - loss: 0.8826 - categorical_accuracy: 0.6981 - val_loss: 1.2963 - val_categorical_accuracy: 0.5862\n"
     ]
    }
   ],
   "source": [
    "history = model.fit(\n",
    "    X_train, \n",
    "    y_train, \n",
    "    batch_size=256,\n",
    "    epochs=10, \n",
    "    validation_data=(X_val, y_val)\n",
    ")"
   ]
  },
  {
   "cell_type": "code",
   "execution_count": 46,
   "metadata": {},
   "outputs": [
    {
     "data": {
      "image/png": "[encoded data removed]",
      "text/plain": [
       "<Figure size 864x288 with 2 Axes>"
      ]
     },
     "metadata": {},
     "output_type": "display_data"
    },
    {
     "name": "stdout",
     "output_type": "stream",
     "text": [
      "10000/10000 [==============================] - 3s 321us/sample - loss: 1.2854 - categorical_accuracy: 0.5843\n",
      "\n",
      "Test result: 0.5843 loss: 1.2854\n"
     ]
    }
   ],
   "source": [
    "fig, axes = plt.subplots(nrows=1, ncols=2, figsize=(12, 4))\n",
    "axes = axes.flatten()\n",
    "\n",
    "loss = sns.lineplot(\n",
    "    x=np.arange(1, 11), \n",
    "    y=history.history['val_loss'], \n",
    "    ax=axes[0]\n",
    ")\n",
    "loss.set(title=\"Loss per Epoch\", xlabel=\"Epoch\", ylabel=\"Loss\")\n",
    "\n",
    "accuracy = sns.lineplot(\n",
    "    x=np.arange(1, 11), \n",
    "    y=history.history['val_categorical_accuracy'], \n",
    "    ax=axes[1]\n",
    ")\n",
    "accuracy.set(title=\"Accuracy per Epoch\", xlabel=\"Epoch\", ylabel=\"Accuracy\")\n",
    "plt.show()\n",
    "\n",
    "scores = model.evaluate(X_test, y_test, batch_size=128, verbose=1)\n",
    "print('\\nTest result: %.4f loss: %.4f' % (scores[1], scores[0]))"
   ]
  }
 ],
 "metadata": {
  "kernelspec": {
   "display_name": "Python 3",
   "language": "python",
   "name": "python3"
  },
  "language_info": {
   "codemirror_mode": {
    "name": "ipython",
    "version": 3
   },
   "file_extension": ".py",
   "mimetype": "text/x-python",
   "name": "python",
   "nbconvert_exporter": "python",
   "pygments_lexer": "ipython3",
   "version": "3.6.6"
  }
 },
 "nbformat": 4,
 "nbformat_minor": 2
}
