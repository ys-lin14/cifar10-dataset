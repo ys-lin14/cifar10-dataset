{
 "cells": [
  {
   "cell_type": "code",
   "execution_count": 1,
   "metadata": {},
   "outputs": [],
   "source": [
    "import matplotlib.pyplot as plt\n",
    "import numpy as np\n",
    "import seaborn as sns\n",
    "import tensorflow as tf\n",
    "\n",
    "from sklearn.model_selection import train_test_split\n",
    "from tensorflow.keras import regularizers\n",
    "from tensorflow.keras.layers import (\n",
    "    Activation, BatchNormalization, Conv2D, Dense, \n",
    "    Dropout, Flatten, GlobalMaxPooling2D, MaxPooling2D\n",
    ")   \n",
    "from tensorflow.keras.metrics import categorical_accuracy\n",
    "from tensorflow.keras.models import Sequential\n",
    "from tensorflow.keras.utils import to_categorical\n",
    "from load_data import unpickle"
   ]
  },
  {
   "cell_type": "code",
   "execution_count": 2,
   "metadata": {},
   "outputs": [],
   "source": [
    "plt.style.use('ggplot')"
   ]
  },
  {
   "cell_type": "code",
   "execution_count": 3,
   "metadata": {},
   "outputs": [],
   "source": [
    "def get_filename(file_num):\n",
    "    \"\"\"Get the filename of a CIFAR-10 data batch\n",
    "    \n",
    "    Args:\n",
    "        file_num (int): batch number\n",
    "        \n",
    "    Returns:\n",
    "        filename (str): name of CIFAR-10 data batch\n",
    "    \"\"\"\n",
    "    \n",
    "    filename = 'data/data_batch_{0}'.format(file_num)\n",
    "    return filename\n",
    "\n",
    "def get_inputs(is_test_input=False):\n",
    "    \"\"\"Get the inputs from the CIFAR-10 data batches\n",
    "    \n",
    "    Args:\n",
    "        is_test_input (bool): \n",
    "            specifies whether or not the inputs are test inputs\n",
    "    \n",
    "    Returns:\n",
    "        X (numpy array): (N, 32, 32, 3) representation of images\n",
    "        y (numpy array): one-hot encoded image labels\n",
    "    \"\"\"\n",
    "    \n",
    "    if (is_test_input):    \n",
    "        batch = unpickle('data/test_batch')\n",
    "        X, y = batch[b'data'], np.array(batch[b'labels'])\n",
    "    else:\n",
    "        files = [get_filename(file_num) for file_num in range(1, 6)]\n",
    "        batches = [unpickle(file) for file in files]\n",
    "\n",
    "        data = [batches[i][b'data'] for i in range(0, 5)]\n",
    "        labels = [batches[i][b'labels'] for i in range(0, 5)]\n",
    "\n",
    "        X, y = np.concatenate(data), np.concatenate(labels)\n",
    "    \n",
    "    X, y = X.reshape(X.shape[0], 32, 32, 3), to_categorical(y)\n",
    "    X = X / 255\n",
    "    return X, y"
   ]
  },
  {
   "cell_type": "code",
   "execution_count": 4,
   "metadata": {},
   "outputs": [],
   "source": [
    "X, y = get_inputs()\n",
    "X_test, y_test = get_inputs(is_test_input=True)\n",
    "X_train, X_val, y_train, y_val = train_test_split(X, y, test_size=0.2)"
   ]
  },
  {
   "cell_type": "code",
   "execution_count": 6,
   "metadata": {},
   "outputs": [],
   "source": [
    "model = Sequential()\n",
    "model.add(Conv2D(32, (3, 3), input_shape=(32, 32, 3)))\n",
    "model.add(Conv2D(64, (3, 3), input_shape=(32, 32, 3)))\n",
    "model.add(GlobalMaxPooling2D())\n",
    "model.add(Dense(10, activation='softmax'))"
   ]
  },
  {
   "cell_type": "code",
   "execution_count": 7,
   "metadata": {},
   "outputs": [],
   "source": [
    "model.compile(\n",
    "    loss='categorical_crossentropy', \n",
    "    optimizer='Nadam', \n",
    "    metrics=['categorical_accuracy']\n",
    ")"
   ]
  },
  {
   "cell_type": "code",
   "execution_count": 8,
   "metadata": {},
   "outputs": [
    {
     "name": "stdout",
     "output_type": "stream",
     "text": [
      "Model: \"sequential\"\n",
      "_________________________________________________________________\n",
      "Layer (type)                 Output Shape              Param #   \n",
      "=================================================================\n",
      "conv2d (Conv2D)              (None, 30, 30, 32)        896       \n",
      "_________________________________________________________________\n",
      "conv2d_1 (Conv2D)            (None, 28, 28, 64)        18496     \n",
      "_________________________________________________________________\n",
      "global_max_pooling2d (Global (None, 64)                0         \n",
      "_________________________________________________________________\n",
      "dense (Dense)                (None, 10)                650       \n",
      "=================================================================\n",
      "Total params: 20,042\n",
      "Trainable params: 20,042\n",
      "Non-trainable params: 0\n",
      "_________________________________________________________________\n"
     ]
    }
   ],
   "source": [
    "model.summary()"
   ]
  },
  {
   "cell_type": "code",
   "execution_count": 9,
   "metadata": {
    "collapsed": true
   },
   "outputs": [
    {
     "name": "stdout",
     "output_type": "stream",
     "text": [
      "Train on 40000 samples, validate on 10000 samples\n",
      "Epoch 1/10\n",
      "40000/40000 [==============================] - 54s 1ms/sample - loss: 2.1342 - categorical_accuracy: 0.2217 - val_loss: 2.0038 - val_categorical_accuracy: 0.2768\n",
      "Epoch 2/10\n",
      "40000/40000 [==============================] - 52s 1ms/sample - loss: 1.9282 - categorical_accuracy: 0.3182 - val_loss: 1.9192 - val_categorical_accuracy: 0.3147\n",
      "Epoch 3/10\n",
      "40000/40000 [==============================] - 51s 1ms/sample - loss: 1.8446 - categorical_accuracy: 0.3530 - val_loss: 1.8484 - val_categorical_accuracy: 0.3456\n",
      "Epoch 4/10\n",
      "40000/40000 [==============================] - 52s 1ms/sample - loss: 1.7888 - categorical_accuracy: 0.3753 - val_loss: 1.8168 - val_categorical_accuracy: 0.3519\n",
      "Epoch 5/10\n",
      "40000/40000 [==============================] - 52s 1ms/sample - loss: 1.7455 - categorical_accuracy: 0.3930 - val_loss: 1.8715 - val_categorical_accuracy: 0.3287\n",
      "Epoch 6/10\n",
      "40000/40000 [==============================] - 52s 1ms/sample - loss: 1.7110 - categorical_accuracy: 0.4055 - val_loss: 1.7851 - val_categorical_accuracy: 0.3688\n",
      "Epoch 7/10\n",
      "40000/40000 [==============================] - 52s 1ms/sample - loss: 1.6857 - categorical_accuracy: 0.4146 - val_loss: 1.7485 - val_categorical_accuracy: 0.3803\n",
      "Epoch 8/10\n",
      "40000/40000 [==============================] - 52s 1ms/sample - loss: 1.6641 - categorical_accuracy: 0.4225 - val_loss: 1.7419 - val_categorical_accuracy: 0.3963\n",
      "Epoch 9/10\n",
      "40000/40000 [==============================] - 52s 1ms/sample - loss: 1.6449 - categorical_accuracy: 0.4304 - val_loss: 1.6791 - val_categorical_accuracy: 0.4153\n",
      "Epoch 10/10\n",
      "40000/40000 [==============================] - 51s 1ms/sample - loss: 1.6301 - categorical_accuracy: 0.4358 - val_loss: 1.6941 - val_categorical_accuracy: 0.4060\n"
     ]
    }
   ],
   "source": [
    "history = model.fit(\n",
    "    X_train, \n",
    "    y_train, \n",
    "    batch_size=256,\n",
    "    epochs=10, \n",
    "    validation_data=(X_val, y_val)\n",
    ")"
   ]
  },
  {
   "cell_type": "code",
   "execution_count": 16,
   "metadata": {},
   "outputs": [
    {
     "data": {
      "image/png": "[encoded data removed]",
      "text/plain": [
       "<Figure size 864x288 with 2 Axes>"
      ]
     },
     "metadata": {},
     "output_type": "display_data"
    }
   ],
   "source": [
    "fig, axes = plt.subplots(nrows=1, ncols=2, figsize=(12, 4))\n",
    "axes = axes.flatten()\n",
    "\n",
    "loss = sns.lineplot(\n",
    "    x=np.arange(1, 11), \n",
    "    y=history.history['val_loss'], \n",
    "    ax=axes[0]\n",
    ")\n",
    "loss.set(title=\"Loss per Epoch\", xlabel=\"Epoch\", ylabel=\"Loss\")\n",
    "\n",
    "accuracy = sns.lineplot(\n",
    "    x=np.arange(1, 11), \n",
    "    y=history.history['val_categorical_accuracy'], \n",
    "    ax=axes[1]\n",
    ")\n",
    "accuracy.set(title=\"Accuracy per Epoch\", xlabel=\"Epoch\", ylabel=\"Accuracy\")\n",
    "plt.show()"
   ]
  },
  {
   "cell_type": "code",
   "execution_count": 14,
   "metadata": {},
   "outputs": [
    {
     "name": "stdout",
     "output_type": "stream",
     "text": [
      "10000/10000 [==============================] - 3s 251us/sample - loss: 1.6864 - categorical_accuracy: 0.4053\n",
      "\n",
      "Test result: 0.4053 loss: 1.6864\n"
     ]
    }
   ],
   "source": [
    "scores = model.evaluate(X_test, y_test, batch_size=128, verbose=1)\n",
    "print('\\nTest result: %.4f loss: %.4f' % (scores[1], scores[0]))"
   ]
  }
 ],
 "metadata": {
  "kernelspec": {
   "display_name": "Python 3",
   "language": "python",
   "name": "python3"
  },
  "language_info": {
   "codemirror_mode": {
    "name": "ipython",
    "version": 3
   },
   "file_extension": ".py",
   "mimetype": "text/x-python",
   "name": "python",
   "nbconvert_exporter": "python",
   "pygments_lexer": "ipython3",
   "version": "3.6.6"
  }
 },
 "nbformat": 4,
 "nbformat_minor": 2
}
