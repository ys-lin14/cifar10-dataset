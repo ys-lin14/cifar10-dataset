{
 "cells": [
  {
   "cell_type": "code",
   "execution_count": 19,
   "metadata": {},
   "outputs": [],
   "source": [
    "import matplotlib.pyplot as plt\n",
    "import numpy as np\n",
    "import seaborn as sns\n",
    "import tensorflow as tf\n",
    "\n",
    "from tensorflow.keras import regularizers\n",
    "from tensorflow.keras.layers import (\n",
    "    Activation, BatchNormalization, Conv2D, Dense, \n",
    "    Dropout, Flatten, GlobalMaxPooling2D, MaxPooling2D\n",
    ")   \n",
    "from tensorflow.keras.metrics import categorical_accuracy\n",
    "from tensorflow.keras.models import Sequential\n",
    "from tensorflow.keras.utils import to_categorical\n",
    "from load_data import unpickle"
   ]
  },
  {
   "cell_type": "code",
   "execution_count": 2,
   "metadata": {},
   "outputs": [],
   "source": [
    "train_data = unpickle('data/data_batch_1')\n",
    "validation_data = unpickle('data/data_batch_2')\n",
    "test_data = unpickle('data/data_batch_3')"
   ]
  },
  {
   "cell_type": "code",
   "execution_count": 3,
   "metadata": {},
   "outputs": [],
   "source": [
    "X_train, y_train = train_data[b'data'], np.array(train_data[b'labels'])\n",
    "X_train, y_train = X_train.reshape(10000, 32, 32, 3) / 255, to_categorical(y_train)\n",
    "\n",
    "X_validation, y_validation = validation_data[b'data'], np.array(validation_data[b'labels'])    \n",
    "X_validation, y_validation = X_validation.reshape(10000, 32, 32, 3) / 255, to_categorical(y_validation)\n",
    "\n",
    "X_test, y_test = test_data[b'data'], np.array(test_data[b'labels'])    \n",
    "X_test, y_test = X_test.reshape(10000, 32, 32, 3) / 255, to_categorical(y_test)"
   ]
  },
  {
   "cell_type": "code",
   "execution_count": 6,
   "metadata": {},
   "outputs": [],
   "source": [
    "model = Sequential()\n",
    "model.add(Conv2D(32, (3, 3), input_shape=(32, 32, 3)))\n",
    "model.add(Conv2D(64, (3, 3), input_shape=(32, 32, 3)))\n",
    "model.add(GlobalMaxPooling2D())\n",
    "model.add(Dense(10, activation='softmax'))"
   ]
  },
  {
   "cell_type": "code",
   "execution_count": 7,
   "metadata": {},
   "outputs": [],
   "source": [
    "model.compile(\n",
    "    loss='categorical_crossentropy', \n",
    "    optimizer='Nadam', \n",
    "    metrics=['categorical_accuracy']\n",
    ")"
   ]
  },
  {
   "cell_type": "code",
   "execution_count": 8,
   "metadata": {},
   "outputs": [
    {
     "name": "stdout",
     "output_type": "stream",
     "text": [
      "Model: \"sequential_1\"\n",
      "_________________________________________________________________\n",
      "Layer (type)                 Output Shape              Param #   \n",
      "=================================================================\n",
      "conv2d_2 (Conv2D)            (None, 30, 30, 32)        896       \n",
      "_________________________________________________________________\n",
      "conv2d_3 (Conv2D)            (None, 28, 28, 64)        18496     \n",
      "_________________________________________________________________\n",
      "global_max_pooling2d (Global (None, 64)                0         \n",
      "_________________________________________________________________\n",
      "dense (Dense)                (None, 10)                650       \n",
      "=================================================================\n",
      "Total params: 20,042\n",
      "Trainable params: 20,042\n",
      "Non-trainable params: 0\n",
      "_________________________________________________________________\n"
     ]
    }
   ],
   "source": [
    "model.summary()"
   ]
  },
  {
   "cell_type": "code",
   "execution_count": 13,
   "metadata": {
    "scrolled": false
   },
   "outputs": [
    {
     "name": "stdout",
     "output_type": "stream",
     "text": [
      "Train on 10000 samples, validate on 10000 samples\n",
      "Epoch 1/100\n",
      "10000/10000 [==============================] - 16s 2ms/sample - loss: 1.7262 - categorical_accuracy: 0.3944 - val_loss: 2.0072 - val_categorical_accuracy: 0.2880\n",
      "Epoch 2/100\n",
      "10000/10000 [==============================] - 15s 2ms/sample - loss: 1.7099 - categorical_accuracy: 0.4037 - val_loss: 1.8907 - val_categorical_accuracy: 0.3333\n",
      "Epoch 3/100\n",
      "10000/10000 [==============================] - 15s 1ms/sample - loss: 1.6959 - categorical_accuracy: 0.4090 - val_loss: 1.9057 - val_categorical_accuracy: 0.3248\n",
      "Epoch 4/100\n",
      "10000/10000 [==============================] - 15s 1ms/sample - loss: 1.6823 - categorical_accuracy: 0.4163 - val_loss: 1.9786 - val_categorical_accuracy: 0.2991\n",
      "Epoch 5/100\n",
      "10000/10000 [==============================] - 15s 1ms/sample - loss: 1.6719 - categorical_accuracy: 0.4195 - val_loss: 1.8595 - val_categorical_accuracy: 0.3563\n",
      "Epoch 6/100\n",
      "10000/10000 [==============================] - 15s 2ms/sample - loss: 1.6551 - categorical_accuracy: 0.4232 - val_loss: 1.9364 - val_categorical_accuracy: 0.3283\n",
      "Epoch 7/100\n",
      "10000/10000 [==============================] - 15s 1ms/sample - loss: 1.6457 - categorical_accuracy: 0.4288 - val_loss: 1.8901 - val_categorical_accuracy: 0.3468\n",
      "Epoch 8/100\n",
      "10000/10000 [==============================] - 15s 1ms/sample - loss: 1.6315 - categorical_accuracy: 0.4368 - val_loss: 2.0548 - val_categorical_accuracy: 0.2932\n",
      "Epoch 9/100\n",
      "10000/10000 [==============================] - 15s 1ms/sample - loss: 1.6240 - categorical_accuracy: 0.4399 - val_loss: 1.8315 - val_categorical_accuracy: 0.3655\n",
      "Epoch 10/100\n",
      "10000/10000 [==============================] - 15s 1ms/sample - loss: 1.6132 - categorical_accuracy: 0.4476 - val_loss: 1.8574 - val_categorical_accuracy: 0.3643\n",
      "Epoch 11/100\n",
      "10000/10000 [==============================] - 15s 1ms/sample - loss: 1.6026 - categorical_accuracy: 0.4499 - val_loss: 1.8457 - val_categorical_accuracy: 0.3393\n",
      "Epoch 12/100\n",
      "10000/10000 [==============================] - 15s 2ms/sample - loss: 1.5925 - categorical_accuracy: 0.4554 - val_loss: 1.8475 - val_categorical_accuracy: 0.3539\n",
      "Epoch 13/100\n",
      "10000/10000 [==============================] - 15s 2ms/sample - loss: 1.5856 - categorical_accuracy: 0.4567 - val_loss: 1.7679 - val_categorical_accuracy: 0.3872\n",
      "Epoch 14/100\n",
      "10000/10000 [==============================] - 15s 2ms/sample - loss: 1.5748 - categorical_accuracy: 0.4627 - val_loss: 1.8424 - val_categorical_accuracy: 0.3581\n",
      "Epoch 15/100\n",
      "10000/10000 [==============================] - 15s 1ms/sample - loss: 1.5703 - categorical_accuracy: 0.4643 - val_loss: 1.8280 - val_categorical_accuracy: 0.3723\n",
      "Epoch 16/100\n",
      "10000/10000 [==============================] - 15s 1ms/sample - loss: 1.5579 - categorical_accuracy: 0.4675 - val_loss: 1.8671 - val_categorical_accuracy: 0.3549\n",
      "Epoch 17/100\n",
      "10000/10000 [==============================] - 15s 2ms/sample - loss: 1.5546 - categorical_accuracy: 0.4683 - val_loss: 1.9097 - val_categorical_accuracy: 0.3392\n",
      "Epoch 18/100\n",
      "10000/10000 [==============================] - 15s 2ms/sample - loss: 1.5459 - categorical_accuracy: 0.4735 - val_loss: 1.8451 - val_categorical_accuracy: 0.3802\n",
      "Epoch 19/100\n",
      "10000/10000 [==============================] - 15s 2ms/sample - loss: 1.5398 - categorical_accuracy: 0.4765 - val_loss: 1.8668 - val_categorical_accuracy: 0.3686\n",
      "Epoch 20/100\n",
      "10000/10000 [==============================] - 15s 1ms/sample - loss: 1.5345 - categorical_accuracy: 0.4799 - val_loss: 1.8217 - val_categorical_accuracy: 0.3721\n",
      "Epoch 21/100\n",
      "10000/10000 [==============================] - 15s 1ms/sample - loss: 1.5256 - categorical_accuracy: 0.4819 - val_loss: 1.8539 - val_categorical_accuracy: 0.3642\n",
      "Epoch 22/100\n",
      "10000/10000 [==============================] - 15s 2ms/sample - loss: 1.5192 - categorical_accuracy: 0.4831 - val_loss: 1.9326 - val_categorical_accuracy: 0.3334\n",
      "Epoch 23/100\n",
      "10000/10000 [==============================] - 15s 1ms/sample - loss: 1.5163 - categorical_accuracy: 0.4842 - val_loss: 1.8164 - val_categorical_accuracy: 0.3788\n",
      "Epoch 24/100\n",
      "10000/10000 [==============================] - 15s 1ms/sample - loss: 1.5067 - categorical_accuracy: 0.4915 - val_loss: 1.8753 - val_categorical_accuracy: 0.3585\n",
      "Epoch 25/100\n",
      "10000/10000 [==============================] - 15s 1ms/sample - loss: 1.5065 - categorical_accuracy: 0.4879 - val_loss: 1.8135 - val_categorical_accuracy: 0.3817\n",
      "Epoch 26/100\n",
      "10000/10000 [==============================] - 15s 2ms/sample - loss: 1.4986 - categorical_accuracy: 0.4887 - val_loss: 1.7997 - val_categorical_accuracy: 0.3727\n",
      "Epoch 27/100\n",
      "10000/10000 [==============================] - 15s 2ms/sample - loss: 1.4914 - categorical_accuracy: 0.4966 - val_loss: 1.8634 - val_categorical_accuracy: 0.3551\n",
      "Epoch 28/100\n",
      "10000/10000 [==============================] - 15s 2ms/sample - loss: 1.4875 - categorical_accuracy: 0.4946 - val_loss: 1.8550 - val_categorical_accuracy: 0.3658\n",
      "Epoch 29/100\n",
      "10000/10000 [==============================] - 15s 2ms/sample - loss: 1.4843 - categorical_accuracy: 0.4957 - val_loss: 1.7687 - val_categorical_accuracy: 0.3963\n",
      "Epoch 30/100\n",
      "10000/10000 [==============================] - 15s 2ms/sample - loss: 1.4783 - categorical_accuracy: 0.4983 - val_loss: 1.8066 - val_categorical_accuracy: 0.3787\n",
      "Epoch 31/100\n",
      "10000/10000 [==============================] - 15s 2ms/sample - loss: 1.4754 - categorical_accuracy: 0.5008 - val_loss: 1.8931 - val_categorical_accuracy: 0.3751\n",
      "Epoch 32/100\n",
      "10000/10000 [==============================] - 15s 2ms/sample - loss: 1.4717 - categorical_accuracy: 0.4993 - val_loss: 1.8276 - val_categorical_accuracy: 0.3757\n",
      "Epoch 33/100\n",
      "10000/10000 [==============================] - 15s 1ms/sample - loss: 1.4638 - categorical_accuracy: 0.5006 - val_loss: 1.8236 - val_categorical_accuracy: 0.3857\n",
      "Epoch 34/100\n",
      "10000/10000 [==============================] - 15s 1ms/sample - loss: 1.4596 - categorical_accuracy: 0.5003 - val_loss: 1.8211 - val_categorical_accuracy: 0.3788\n",
      "Epoch 35/100\n",
      "10000/10000 [==============================] - 15s 2ms/sample - loss: 1.4563 - categorical_accuracy: 0.5028 - val_loss: 1.8577 - val_categorical_accuracy: 0.3692\n",
      "Epoch 36/100\n",
      "10000/10000 [==============================] - 15s 1ms/sample - loss: 1.4527 - categorical_accuracy: 0.5061 - val_loss: 1.8505 - val_categorical_accuracy: 0.3828\n",
      "Epoch 37/100\n",
      "10000/10000 [==============================] - 15s 1ms/sample - loss: 1.4483 - categorical_accuracy: 0.5053 - val_loss: 1.8547 - val_categorical_accuracy: 0.3725\n",
      "Epoch 38/100\n",
      "10000/10000 [==============================] - 15s 1ms/sample - loss: 1.4426 - categorical_accuracy: 0.5081 - val_loss: 1.7885 - val_categorical_accuracy: 0.3919\n",
      "Epoch 39/100\n",
      "10000/10000 [==============================] - 15s 2ms/sample - loss: 1.4369 - categorical_accuracy: 0.5064 - val_loss: 1.7577 - val_categorical_accuracy: 0.3931\n",
      "Epoch 40/100\n",
      "10000/10000 [==============================] - 15s 1ms/sample - loss: 1.4320 - categorical_accuracy: 0.5112 - val_loss: 1.8184 - val_categorical_accuracy: 0.3994\n",
      "Epoch 41/100\n",
      "10000/10000 [==============================] - 15s 1ms/sample - loss: 1.4314 - categorical_accuracy: 0.5133 - val_loss: 1.8687 - val_categorical_accuracy: 0.3699\n",
      "Epoch 42/100\n",
      "10000/10000 [==============================] - 14s 1ms/sample - loss: 1.4269 - categorical_accuracy: 0.5123 - val_loss: 1.7940 - val_categorical_accuracy: 0.3985\n",
      "Epoch 43/100\n",
      "10000/10000 [==============================] - 13s 1ms/sample - loss: 1.4237 - categorical_accuracy: 0.5146 - val_loss: 1.8719 - val_categorical_accuracy: 0.3723\n",
      "Epoch 44/100\n",
      "10000/10000 [==============================] - 13s 1ms/sample - loss: 1.4190 - categorical_accuracy: 0.5174 - val_loss: 1.8204 - val_categorical_accuracy: 0.3822\n",
      "Epoch 45/100\n",
      "10000/10000 [==============================] - 13s 1ms/sample - loss: 1.4112 - categorical_accuracy: 0.5180 - val_loss: 1.8017 - val_categorical_accuracy: 0.3864\n",
      "Epoch 46/100\n",
      "10000/10000 [==============================] - 13s 1ms/sample - loss: 1.4089 - categorical_accuracy: 0.5206 - val_loss: 1.8167 - val_categorical_accuracy: 0.3875\n",
      "Epoch 47/100\n"
     ]
    },
    {
     "name": "stdout",
     "output_type": "stream",
     "text": [
      "10000/10000 [==============================] - 13s 1ms/sample - loss: 1.4100 - categorical_accuracy: 0.5197 - val_loss: 1.7928 - val_categorical_accuracy: 0.3870\n",
      "Epoch 48/100\n",
      "10000/10000 [==============================] - 13s 1ms/sample - loss: 1.4036 - categorical_accuracy: 0.5198 - val_loss: 1.8364 - val_categorical_accuracy: 0.3878\n",
      "Epoch 49/100\n",
      "10000/10000 [==============================] - 13s 1ms/sample - loss: 1.3985 - categorical_accuracy: 0.5244 - val_loss: 1.7881 - val_categorical_accuracy: 0.3919\n",
      "Epoch 50/100\n",
      "10000/10000 [==============================] - 13s 1ms/sample - loss: 1.3934 - categorical_accuracy: 0.5258 - val_loss: 1.8844 - val_categorical_accuracy: 0.3750\n",
      "Epoch 51/100\n",
      "10000/10000 [==============================] - 13s 1ms/sample - loss: 1.3923 - categorical_accuracy: 0.5238 - val_loss: 1.9000 - val_categorical_accuracy: 0.3577\n",
      "Epoch 52/100\n",
      "10000/10000 [==============================] - 13s 1ms/sample - loss: 1.3883 - categorical_accuracy: 0.5277 - val_loss: 1.7620 - val_categorical_accuracy: 0.4011\n",
      "Epoch 53/100\n",
      "10000/10000 [==============================] - 13s 1ms/sample - loss: 1.3803 - categorical_accuracy: 0.5320 - val_loss: 1.8047 - val_categorical_accuracy: 0.3935\n",
      "Epoch 54/100\n",
      "10000/10000 [==============================] - 13s 1ms/sample - loss: 1.3790 - categorical_accuracy: 0.5278 - val_loss: 1.7937 - val_categorical_accuracy: 0.3963\n",
      "Epoch 55/100\n",
      "10000/10000 [==============================] - 13s 1ms/sample - loss: 1.3763 - categorical_accuracy: 0.5293 - val_loss: 1.8157 - val_categorical_accuracy: 0.3914\n",
      "Epoch 56/100\n",
      "10000/10000 [==============================] - 13s 1ms/sample - loss: 1.3738 - categorical_accuracy: 0.5288 - val_loss: 1.8011 - val_categorical_accuracy: 0.3873\n",
      "Epoch 57/100\n",
      "10000/10000 [==============================] - 13s 1ms/sample - loss: 1.3679 - categorical_accuracy: 0.5307 - val_loss: 1.8168 - val_categorical_accuracy: 0.4020\n",
      "Epoch 58/100\n",
      "10000/10000 [==============================] - 13s 1ms/sample - loss: 1.3668 - categorical_accuracy: 0.5370 - val_loss: 1.8147 - val_categorical_accuracy: 0.3981\n",
      "Epoch 59/100\n",
      "10000/10000 [==============================] - 13s 1ms/sample - loss: 1.3607 - categorical_accuracy: 0.5415 - val_loss: 1.7973 - val_categorical_accuracy: 0.3921\n",
      "Epoch 60/100\n",
      "10000/10000 [==============================] - 13s 1ms/sample - loss: 1.3574 - categorical_accuracy: 0.5380 - val_loss: 1.8202 - val_categorical_accuracy: 0.3897\n",
      "Epoch 61/100\n",
      "10000/10000 [==============================] - 13s 1ms/sample - loss: 1.3573 - categorical_accuracy: 0.5376 - val_loss: 1.7785 - val_categorical_accuracy: 0.3999\n",
      "Epoch 62/100\n",
      "10000/10000 [==============================] - 13s 1ms/sample - loss: 1.3512 - categorical_accuracy: 0.5400 - val_loss: 1.8205 - val_categorical_accuracy: 0.3923\n",
      "Epoch 63/100\n",
      "10000/10000 [==============================] - 13s 1ms/sample - loss: 1.3498 - categorical_accuracy: 0.5362 - val_loss: 1.8384 - val_categorical_accuracy: 0.3874\n",
      "Epoch 64/100\n",
      "10000/10000 [==============================] - 13s 1ms/sample - loss: 1.3448 - categorical_accuracy: 0.5409 - val_loss: 1.8152 - val_categorical_accuracy: 0.3979\n",
      "Epoch 65/100\n",
      "10000/10000 [==============================] - 13s 1ms/sample - loss: 1.3418 - categorical_accuracy: 0.5437 - val_loss: 1.8469 - val_categorical_accuracy: 0.3910\n",
      "Epoch 66/100\n",
      "10000/10000 [==============================] - 13s 1ms/sample - loss: 1.3413 - categorical_accuracy: 0.5441 - val_loss: 1.8940 - val_categorical_accuracy: 0.3832\n",
      "Epoch 67/100\n",
      "10000/10000 [==============================] - 13s 1ms/sample - loss: 1.3368 - categorical_accuracy: 0.5446 - val_loss: 1.7958 - val_categorical_accuracy: 0.3984\n",
      "Epoch 68/100\n",
      "10000/10000 [==============================] - 13s 1ms/sample - loss: 1.3313 - categorical_accuracy: 0.5421 - val_loss: 1.8450 - val_categorical_accuracy: 0.3803\n",
      "Epoch 69/100\n",
      "10000/10000 [==============================] - 14s 1ms/sample - loss: 1.3272 - categorical_accuracy: 0.5490 - val_loss: 1.8648 - val_categorical_accuracy: 0.3771\n",
      "Epoch 70/100\n",
      "10000/10000 [==============================] - 13s 1ms/sample - loss: 1.3269 - categorical_accuracy: 0.5464 - val_loss: 1.7764 - val_categorical_accuracy: 0.4024\n",
      "Epoch 71/100\n",
      "10000/10000 [==============================] - 13s 1ms/sample - loss: 1.3207 - categorical_accuracy: 0.5516 - val_loss: 1.8657 - val_categorical_accuracy: 0.3801\n",
      "Epoch 72/100\n",
      "10000/10000 [==============================] - 13s 1ms/sample - loss: 1.3198 - categorical_accuracy: 0.5482 - val_loss: 1.7905 - val_categorical_accuracy: 0.3989\n",
      "Epoch 73/100\n",
      "10000/10000 [==============================] - 13s 1ms/sample - loss: 1.3177 - categorical_accuracy: 0.5509 - val_loss: 1.8297 - val_categorical_accuracy: 0.3937\n",
      "Epoch 74/100\n",
      "10000/10000 [==============================] - 13s 1ms/sample - loss: 1.3120 - categorical_accuracy: 0.5489 - val_loss: 1.9156 - val_categorical_accuracy: 0.3740\n",
      "Epoch 75/100\n",
      "10000/10000 [==============================] - 13s 1ms/sample - loss: 1.3144 - categorical_accuracy: 0.5511 - val_loss: 1.8004 - val_categorical_accuracy: 0.3991\n",
      "Epoch 76/100\n",
      "10000/10000 [==============================] - 14s 1ms/sample - loss: 1.3091 - categorical_accuracy: 0.5555 - val_loss: 1.7966 - val_categorical_accuracy: 0.3997\n",
      "Epoch 77/100\n",
      "10000/10000 [==============================] - 13s 1ms/sample - loss: 1.3027 - categorical_accuracy: 0.5534 - val_loss: 1.8688 - val_categorical_accuracy: 0.3862\n",
      "Epoch 78/100\n",
      "10000/10000 [==============================] - 13s 1ms/sample - loss: 1.3055 - categorical_accuracy: 0.5550 - val_loss: 1.8042 - val_categorical_accuracy: 0.4040\n",
      "Epoch 79/100\n",
      "10000/10000 [==============================] - 13s 1ms/sample - loss: 1.2985 - categorical_accuracy: 0.5586 - val_loss: 1.8317 - val_categorical_accuracy: 0.3964\n",
      "Epoch 80/100\n",
      "10000/10000 [==============================] - 13s 1ms/sample - loss: 1.2998 - categorical_accuracy: 0.5550 - val_loss: 1.8094 - val_categorical_accuracy: 0.4029\n",
      "Epoch 81/100\n",
      "10000/10000 [==============================] - 13s 1ms/sample - loss: 1.2963 - categorical_accuracy: 0.5580 - val_loss: 1.7833 - val_categorical_accuracy: 0.4089\n",
      "Epoch 82/100\n",
      "10000/10000 [==============================] - 13s 1ms/sample - loss: 1.2930 - categorical_accuracy: 0.5589 - val_loss: 1.7889 - val_categorical_accuracy: 0.4034\n",
      "Epoch 83/100\n",
      "10000/10000 [==============================] - 13s 1ms/sample - loss: 1.2876 - categorical_accuracy: 0.5601 - val_loss: 1.8517 - val_categorical_accuracy: 0.3858\n",
      "Epoch 84/100\n",
      "10000/10000 [==============================] - 13s 1ms/sample - loss: 1.2891 - categorical_accuracy: 0.5606 - val_loss: 1.8867 - val_categorical_accuracy: 0.3864\n",
      "Epoch 85/100\n",
      "10000/10000 [==============================] - 13s 1ms/sample - loss: 1.2863 - categorical_accuracy: 0.5612 - val_loss: 1.8618 - val_categorical_accuracy: 0.3872\n",
      "Epoch 86/100\n",
      "10000/10000 [==============================] - 13s 1ms/sample - loss: 1.2815 - categorical_accuracy: 0.5619 - val_loss: 1.7986 - val_categorical_accuracy: 0.4036\n",
      "Epoch 87/100\n",
      "10000/10000 [==============================] - 13s 1ms/sample - loss: 1.2783 - categorical_accuracy: 0.5656 - val_loss: 1.8218 - val_categorical_accuracy: 0.4027\n",
      "Epoch 88/100\n",
      "10000/10000 [==============================] - 13s 1ms/sample - loss: 1.2758 - categorical_accuracy: 0.5660 - val_loss: 1.8036 - val_categorical_accuracy: 0.3996\n",
      "Epoch 89/100\n",
      "10000/10000 [==============================] - 13s 1ms/sample - loss: 1.2761 - categorical_accuracy: 0.5648 - val_loss: 1.8116 - val_categorical_accuracy: 0.4011\n",
      "Epoch 90/100\n",
      "10000/10000 [==============================] - 13s 1ms/sample - loss: 1.2731 - categorical_accuracy: 0.5687 - val_loss: 1.8427 - val_categorical_accuracy: 0.3905\n",
      "Epoch 91/100\n",
      "10000/10000 [==============================] - 13s 1ms/sample - loss: 1.2698 - categorical_accuracy: 0.5663 - val_loss: 1.8352 - val_categorical_accuracy: 0.3959\n",
      "Epoch 92/100\n",
      "10000/10000 [==============================] - 13s 1ms/sample - loss: 1.2675 - categorical_accuracy: 0.5696 - val_loss: 1.8868 - val_categorical_accuracy: 0.3907\n",
      "Epoch 93/100\n",
      "10000/10000 [==============================] - 13s 1ms/sample - loss: 1.2670 - categorical_accuracy: 0.5690 - val_loss: 1.8703 - val_categorical_accuracy: 0.3924\n"
     ]
    },
    {
     "name": "stdout",
     "output_type": "stream",
     "text": [
      "Epoch 94/100\n",
      "10000/10000 [==============================] - 13s 1ms/sample - loss: 1.2651 - categorical_accuracy: 0.5677 - val_loss: 1.8470 - val_categorical_accuracy: 0.3909\n",
      "Epoch 95/100\n",
      "10000/10000 [==============================] - 13s 1ms/sample - loss: 1.2597 - categorical_accuracy: 0.5727 - val_loss: 1.8685 - val_categorical_accuracy: 0.3915\n",
      "Epoch 96/100\n",
      "10000/10000 [==============================] - 13s 1ms/sample - loss: 1.2579 - categorical_accuracy: 0.5737 - val_loss: 1.8420 - val_categorical_accuracy: 0.3975\n",
      "Epoch 97/100\n",
      "10000/10000 [==============================] - 13s 1ms/sample - loss: 1.2571 - categorical_accuracy: 0.5685 - val_loss: 1.8429 - val_categorical_accuracy: 0.3976\n",
      "Epoch 98/100\n",
      "10000/10000 [==============================] - 13s 1ms/sample - loss: 1.2549 - categorical_accuracy: 0.5686 - val_loss: 1.8350 - val_categorical_accuracy: 0.3989\n",
      "Epoch 99/100\n",
      "10000/10000 [==============================] - 13s 1ms/sample - loss: 1.2515 - categorical_accuracy: 0.5742 - val_loss: 1.8616 - val_categorical_accuracy: 0.3977\n",
      "Epoch 100/100\n",
      "10000/10000 [==============================] - 13s 1ms/sample - loss: 1.2522 - categorical_accuracy: 0.5775 - val_loss: 1.8805 - val_categorical_accuracy: 0.3982\n"
     ]
    }
   ],
   "source": [
    "history = model.fit(\n",
    "    X_train, \n",
    "    y_train, \n",
    "    batch_size=128,\n",
    "    epochs=100, \n",
    "    validation_data=(X_validation, y_validation)\n",
    ")"
   ]
  },
  {
   "cell_type": "code",
   "execution_count": 14,
   "metadata": {},
   "outputs": [
    {
     "name": "stdout",
     "output_type": "stream",
     "text": [
      "10000/10000 [==============================] - 2s 214us/sample - loss: 1.8195 - categorical_accuracy: 0.4051\n",
      "\n",
      "Test result: 40.510 loss: 1.820\n"
     ]
    }
   ],
   "source": [
    "scores = model.evaluate(X_test, y_test, batch_size=128, verbose=1)\n",
    "print('\\nTest result: %.3f loss: %.3f' % (scores[1]*100,scores[0]))"
   ]
  },
  {
   "cell_type": "code",
   "execution_count": 17,
   "metadata": {},
   "outputs": [
    {
     "data": {
      "image/png": "[encoded data removed]",
      "text/plain": [
       "<Figure size 864x288 with 2 Axes>"
      ]
     },
     "metadata": {
      "needs_background": "light"
     },
     "output_type": "display_data"
    }
   ],
   "source": [
    "fig, axes = plt.subplots(nrows=1, ncols=2, figsize=(12, 4))\n",
    "axes = axes.flatten()\n",
    "\n",
    "loss = sns.lineplot(\n",
    "    x=np.arange(1, 101), \n",
    "    y=history.history['val_loss'], \n",
    "    ax=axes[0]\n",
    ")\n",
    "loss.set(title=\"Loss vs Epoch\", xlabel=\"Epoch\", ylabel=\"Loss\")\n",
    "\n",
    "accuracy = sns.lineplot(\n",
    "    x=np.arange(1, 101), \n",
    "    y=history.history['val_categorical_accuracy'], \n",
    "    ax=axes[1]\n",
    ")\n",
    "accuracy.set(title=\"Accuracy vs Epoch\", xlabel=\"Epoch\", ylabel=\"Accuracy\")\n",
    "plt.show()"
   ]
  }
 ],
 "metadata": {
  "kernelspec": {
   "display_name": "Python 3",
   "language": "python",
   "name": "python3"
  },
  "language_info": {
   "codemirror_mode": {
    "name": "ipython",
    "version": 3
   },
   "file_extension": ".py",
   "mimetype": "text/x-python",
   "name": "python",
   "nbconvert_exporter": "python",
   "pygments_lexer": "ipython3",
   "version": "3.6.6"
  }
 },
 "nbformat": 4,
 "nbformat_minor": 2
}
