{
 "cells": [
  {
   "cell_type": "code",
   "execution_count": 1,
   "metadata": {},
   "outputs": [],
   "source": [
    "import matplotlib.pyplot as plt\n",
    "import numpy as np\n",
    "import pandas as pd\n",
    "import seaborn as sns\n",
    "import tensorflow as tf\n",
    "\n",
    "from sklearn.model_selection import train_test_split\n",
    "from tensorflow.keras import optimizers, regularizers\n",
    "from tensorflow.keras.layers import (\n",
    "    Activation, BatchNormalization, Dense, Dropout, Flatten\n",
    ")\n",
    "from tensorflow.keras.layers import Conv2D, MaxPooling2D\n",
    "from tensorflow.keras.metrics import categorical_accuracy\n",
    "from tensorflow.keras.models import Sequential\n",
    "from tensorflow.keras.utils import to_categorical\n",
    "from load_data import unpickle"
   ]
  },
  {
   "cell_type": "code",
   "execution_count": 2,
   "metadata": {},
   "outputs": [],
   "source": [
    "plt.style.use('ggplot')"
   ]
  },
  {
   "cell_type": "code",
   "execution_count": 3,
   "metadata": {},
   "outputs": [],
   "source": [
    "def get_filename(file_num):\n",
    "    \"\"\"Get the filename of a CIFAR-10 data batch\n",
    "    \n",
    "    Args:\n",
    "        file_num (int): batch number\n",
    "        \n",
    "    Returns:\n",
    "        filename (str): name of CIFAR-10 data batch\n",
    "    \"\"\"\n",
    "    \n",
    "    filename = 'data/data_batch_{0}'.format(file_num)\n",
    "    return filename\n",
    "\n",
    "def get_inputs(is_test_input=False):\n",
    "    \"\"\"Get the inputs from the CIFAR-10 data batches\n",
    "    \n",
    "    Args:\n",
    "        is_test_input (bool): \n",
    "            specifies whether or not the inputs are test inputs\n",
    "    \n",
    "    Returns:\n",
    "        X (numpy array): (N, 32, 32, 3) representation of images\n",
    "        y (numpy array): one-hot encoded image labels\n",
    "    \"\"\"\n",
    "    \n",
    "    if (is_test_input):    \n",
    "        batch = unpickle('data/test_batch')\n",
    "        X, y = batch[b'data'], np.array(batch[b'labels'])\n",
    "    else:\n",
    "        files = [get_filename(file_num) for file_num in range(1, 6)]\n",
    "        batches = [unpickle(file) for file in files]\n",
    "\n",
    "        data = [batches[i][b'data'] for i in range(0, 5)]\n",
    "        labels = [batches[i][b'labels'] for i in range(0, 5)]\n",
    "\n",
    "        X, y = np.concatenate(data), np.concatenate(labels)\n",
    "    \n",
    "    X, y = X.reshape(X.shape[0], 32, 32, 3), to_categorical(y)\n",
    "    X = X / 255\n",
    "    return X, y\n",
    "\n",
    "def epoch_data_to_df(history_dict, data_key, column_name):\n",
    "    \"\"\"Return a dataframe containing epoch data from a dictionary\n",
    "    \n",
    "    Args:\n",
    "        history (dict): \n",
    "            contains training and validation data from the epochs\n",
    "        data_key (str): \n",
    "            indicates the data to be put into the dataframe - accepts \n",
    "            'loss', 'val_loss', 'categorical_accuracy' or\n",
    "            'val_categorical_accuracy'\n",
    "        column_name (str): \n",
    "            column name for the data \n",
    "    \n",
    "    Returns: \n",
    "        df (dataframe): contains \n",
    "    \"\"\"\n",
    "    \n",
    "    data = history.history[data_key]\n",
    "    num_epochs = len(data)\n",
    "    df = pd.DataFrame({\n",
    "        'epoch': np.arange(1, num_epochs + 1),\n",
    "        column_name: data,\n",
    "        'label': data_key\n",
    "    })\n",
    "    return df"
   ]
  },
  {
   "cell_type": "code",
   "execution_count": 4,
   "metadata": {},
   "outputs": [],
   "source": [
    "X, y = get_inputs()\n",
    "X_test, y_test = get_inputs(is_test_input=True)\n",
    "X_train, X_val, y_train, y_val = train_test_split(X, y, test_size=0.2)"
   ]
  },
  {
   "cell_type": "code",
   "execution_count": 5,
   "metadata": {},
   "outputs": [],
   "source": [
    "model = Sequential()\n",
    "model.add(Conv2D(32, (3,3), padding='same', input_shape=(32,32,3)))\n",
    "model.add(Conv2D(32, (3,3), padding='same'))\n",
    "model.add(Activation('relu'))\n",
    "model.add(BatchNormalization())\n",
    "model.add(MaxPooling2D(pool_size=(2,2), strides=(2,2)))\n",
    "model.add(Dropout(0.20))\n",
    "\n",
    "model.add(Conv2D(64, (3,3), padding='same'))\n",
    "model.add(Conv2D(64, (3,3), padding='same'))\n",
    "model.add(Activation('relu'))\n",
    "model.add(BatchNormalization())\n",
    "model.add(MaxPooling2D(pool_size=(2,2), strides=(2,2)))\n",
    "model.add(Dropout(0.25))\n",
    "\n",
    "model.add(Flatten())\n",
    "model.add(Dense(units=10, activation=\"softmax\"))"
   ]
  },
  {
   "cell_type": "code",
   "execution_count": 6,
   "metadata": {},
   "outputs": [],
   "source": [
    "nadam_optimizer = tf.keras.optimizers.Nadam(\n",
    "    learning_rate=0.001, \n",
    "    beta_1=0.9, \n",
    "    beta_2=0.999\n",
    ")\n",
    "model.compile(\n",
    "    loss='categorical_crossentropy', \n",
    "    optimizer=nadam_optimizer, \n",
    "    metrics=['categorical_accuracy']\n",
    ")"
   ]
  },
  {
   "cell_type": "code",
   "execution_count": 7,
   "metadata": {
    "scrolled": true
   },
   "outputs": [
    {
     "name": "stdout",
     "output_type": "stream",
     "text": [
      "Model: \"sequential\"\n",
      "_________________________________________________________________\n",
      "Layer (type)                 Output Shape              Param #   \n",
      "=================================================================\n",
      "conv2d (Conv2D)              (None, 32, 32, 32)        896       \n",
      "_________________________________________________________________\n",
      "conv2d_1 (Conv2D)            (None, 32, 32, 32)        9248      \n",
      "_________________________________________________________________\n",
      "activation (Activation)      (None, 32, 32, 32)        0         \n",
      "_________________________________________________________________\n",
      "batch_normalization (BatchNo (None, 32, 32, 32)        128       \n",
      "_________________________________________________________________\n",
      "max_pooling2d (MaxPooling2D) (None, 16, 16, 32)        0         \n",
      "_________________________________________________________________\n",
      "dropout (Dropout)            (None, 16, 16, 32)        0         \n",
      "_________________________________________________________________\n",
      "conv2d_2 (Conv2D)            (None, 16, 16, 64)        18496     \n",
      "_________________________________________________________________\n",
      "conv2d_3 (Conv2D)            (None, 16, 16, 64)        36928     \n",
      "_________________________________________________________________\n",
      "activation_1 (Activation)    (None, 16, 16, 64)        0         \n",
      "_________________________________________________________________\n",
      "batch_normalization_1 (Batch (None, 16, 16, 64)        256       \n",
      "_________________________________________________________________\n",
      "max_pooling2d_1 (MaxPooling2 (None, 8, 8, 64)          0         \n",
      "_________________________________________________________________\n",
      "dropout_1 (Dropout)          (None, 8, 8, 64)          0         \n",
      "_________________________________________________________________\n",
      "flatten (Flatten)            (None, 4096)              0         \n",
      "_________________________________________________________________\n",
      "dense (Dense)                (None, 10)                40970     \n",
      "=================================================================\n",
      "Total params: 106,922\n",
      "Trainable params: 106,730\n",
      "Non-trainable params: 192\n",
      "_________________________________________________________________\n"
     ]
    }
   ],
   "source": [
    "model.summary()"
   ]
  },
  {
   "cell_type": "code",
   "execution_count": 8,
   "metadata": {},
   "outputs": [
    {
     "name": "stdout",
     "output_type": "stream",
     "text": [
      "Train on 40000 samples, validate on 10000 samples\n",
      "Epoch 1/20\n",
      "40000/40000 [==============================] - 16s 397us/sample - loss: 1.9535 - categorical_accuracy: 0.3947 - val_loss: 1.4753 - val_categorical_accuracy: 0.4946\n",
      "Epoch 2/20\n",
      "40000/40000 [==============================] - 11s 274us/sample - loss: 1.4461 - categorical_accuracy: 0.5135 - val_loss: 1.3111 - val_categorical_accuracy: 0.5452\n",
      "Epoch 3/20\n",
      "40000/40000 [==============================] - 11s 277us/sample - loss: 1.2502 - categorical_accuracy: 0.5716 - val_loss: 1.1735 - val_categorical_accuracy: 0.5951\n",
      "Epoch 4/20\n",
      "40000/40000 [==============================] - 11s 275us/sample - loss: 1.1313 - categorical_accuracy: 0.6076 - val_loss: 1.1041 - val_categorical_accuracy: 0.6255\n",
      "Epoch 5/20\n",
      "40000/40000 [==============================] - 11s 276us/sample - loss: 1.0562 - categorical_accuracy: 0.6323 - val_loss: 1.1547 - val_categorical_accuracy: 0.6001\n",
      "Epoch 6/20\n",
      "40000/40000 [==============================] - 11s 275us/sample - loss: 1.0002 - categorical_accuracy: 0.6510 - val_loss: 1.0460 - val_categorical_accuracy: 0.6360\n",
      "Epoch 7/20\n",
      "40000/40000 [==============================] - 11s 272us/sample - loss: 0.9552 - categorical_accuracy: 0.6681 - val_loss: 1.1022 - val_categorical_accuracy: 0.6199\n",
      "Epoch 8/20\n",
      "40000/40000 [==============================] - 11s 274us/sample - loss: 0.9238 - categorical_accuracy: 0.6809 - val_loss: 1.0267 - val_categorical_accuracy: 0.6419\n",
      "Epoch 9/20\n",
      "40000/40000 [==============================] - 11s 286us/sample - loss: 0.8900 - categorical_accuracy: 0.6895 - val_loss: 1.0240 - val_categorical_accuracy: 0.6513\n",
      "Epoch 10/20\n",
      "40000/40000 [==============================] - 11s 270us/sample - loss: 0.8628 - categorical_accuracy: 0.7002 - val_loss: 1.0819 - val_categorical_accuracy: 0.6412\n",
      "Epoch 11/20\n",
      "40000/40000 [==============================] - 11s 273us/sample - loss: 0.8463 - categorical_accuracy: 0.7063 - val_loss: 1.0278 - val_categorical_accuracy: 0.6507\n",
      "Epoch 12/20\n",
      "40000/40000 [==============================] - 11s 281us/sample - loss: 0.8252 - categorical_accuracy: 0.7144 - val_loss: 0.9914 - val_categorical_accuracy: 0.6614\n",
      "Epoch 13/20\n",
      "40000/40000 [==============================] - 11s 276us/sample - loss: 0.8025 - categorical_accuracy: 0.7194 - val_loss: 0.9595 - val_categorical_accuracy: 0.6783\n",
      "Epoch 14/20\n",
      "40000/40000 [==============================] - 11s 274us/sample - loss: 0.7830 - categorical_accuracy: 0.7271 - val_loss: 0.9690 - val_categorical_accuracy: 0.67467793 - categorical_accu - ETA: 1s -\n",
      "Epoch 15/20\n",
      "40000/40000 [==============================] - 11s 276us/sample - loss: 0.7611 - categorical_accuracy: 0.7363 - val_loss: 0.9463 - val_categorical_accuracy: 0.6867\n",
      "Epoch 16/20\n",
      "40000/40000 [==============================] - 11s 273us/sample - loss: 0.7531 - categorical_accuracy: 0.7369 - val_loss: 0.9297 - val_categorical_accuracy: 0.6869\n",
      "Epoch 17/20\n",
      "40000/40000 [==============================] - 11s 281us/sample - loss: 0.7333 - categorical_accuracy: 0.7416 - val_loss: 0.9513 - val_categorical_accuracy: 0.6787\n",
      "Epoch 18/20\n",
      "40000/40000 [==============================] - 11s 276us/sample - loss: 0.7193 - categorical_accuracy: 0.7464 - val_loss: 0.9655 - val_categorical_accuracy: 0.6788\n",
      "Epoch 19/20\n",
      "40000/40000 [==============================] - 11s 279us/sample - loss: 0.7157 - categorical_accuracy: 0.7495 - val_loss: 1.2366 - val_categorical_accuracy: 0.6082\n",
      "Epoch 20/20\n",
      "40000/40000 [==============================] - 11s 274us/sample - loss: 0.6963 - categorical_accuracy: 0.7560 - val_loss: 0.9428 - val_categorical_accuracy: 0.6881\n"
     ]
    }
   ],
   "source": [
    "num_epochs = 20\n",
    "\n",
    "history = model.fit(\n",
    "    X_train, \n",
    "    y_train, \n",
    "    batch_size=64,\n",
    "    epochs=num_epochs, \n",
    "    validation_data=(X_val, y_val)\n",
    ")"
   ]
  },
  {
   "cell_type": "code",
   "execution_count": 9,
   "metadata": {},
   "outputs": [],
   "source": [
    "history_dict = history.history\n",
    "\n",
    "training_loss = epoch_data_to_df(history_dict, 'loss', 'model_loss')\n",
    "validation_loss = epoch_data_to_df(history_dict, 'val_loss', 'model_loss')\n",
    "joint_loss = pd.concat([training_loss, validation_loss])\n",
    "joint_loss.reset_index(inplace=True, drop=True)\n",
    "\n",
    "training_accuracy = epoch_data_to_df(\n",
    "    history_dict, \n",
    "    'categorical_accuracy', \n",
    "    'model_accuracy'\n",
    ")\n",
    "validation_accuracy = epoch_data_to_df(\n",
    "    history_dict, \n",
    "    'val_categorical_accuracy', \n",
    "    'model_accuracy'\n",
    ")\n",
    "joint_accuracy = pd.concat([training_accuracy, validation_accuracy])\n",
    "joint_accuracy.reset_index(inplace=True, drop=True)"
   ]
  },
  {
   "cell_type": "code",
   "execution_count": 10,
   "metadata": {},
   "outputs": [
    {
     "data": {
      "image/png": "[encoded data removed]",
      "text/plain": [
       "<Figure size 864x288 with 2 Axes>"
      ]
     },
     "metadata": {},
     "output_type": "display_data"
    }
   ],
   "source": [
    "fig, axes = plt.subplots(nrows=1, ncols=2, figsize=(12, 4))\n",
    "axes = axes.flatten()\n",
    "\n",
    "loss_plot = sns.lineplot(\n",
    "    x='epoch', \n",
    "    y='model_loss', \n",
    "    data=joint_loss,\n",
    "    hue='label',\n",
    "    ax=axes[0]\n",
    ")\n",
    "loss_plot.set(title=\"Loss per Epoch\", xlabel=\"Epoch\", ylabel=\"Loss\")\n",
    "loss_plot.legend([\"Training Loss\", \"Validation Loss\"])\n",
    "\n",
    "accuracy_plot = sns.lineplot(\n",
    "    x='epoch', \n",
    "    y='model_accuracy', \n",
    "    data=joint_accuracy,\n",
    "    hue='label',\n",
    "    ax=axes[1]\n",
    ")\n",
    "accuracy_plot.set(\n",
    "    title=\"Accuracy per Epoch\", \n",
    "    xlabel=\"Epoch\", \n",
    "    ylabel=\"Accuracy\"\n",
    ")\n",
    "accuracy_plot.legend([\"Training Accuracy\", \"Validation Accuracy\"])\n",
    "\n",
    "plt.subplots_adjust(wspace=0.3)\n",
    "plt.show()"
   ]
  },
  {
   "cell_type": "code",
   "execution_count": 11,
   "metadata": {},
   "outputs": [
    {
     "name": "stdout",
     "output_type": "stream",
     "text": [
      "10000/10000 [==============================] - 1s 124us/sample - loss: 0.9337 - categorical_accuracy: 0.6857\n",
      "\n",
      "Test result: 0.6857 loss: 0.9337\n"
     ]
    }
   ],
   "source": [
    "scores = model.evaluate(X_test, y_test, batch_size=128, verbose=1)\n",
    "print('\\nTest result: %.4f loss: %.4f' % (scores[1], scores[0]))"
   ]
  }
 ],
 "metadata": {
  "kernelspec": {
   "display_name": "Python 3",
   "language": "python",
   "name": "python3"
  },
  "language_info": {
   "codemirror_mode": {
    "name": "ipython",
    "version": 3
   },
   "file_extension": ".py",
   "mimetype": "text/x-python",
   "name": "python",
   "nbconvert_exporter": "python",
   "pygments_lexer": "ipython3",
   "version": "3.6.6"
  }
 },
 "nbformat": 4,
 "nbformat_minor": 2
}
